{
 "cells": [
  {
   "cell_type": "code",
   "execution_count": 51,
   "id": "6ee3c739",
   "metadata": {},
   "outputs": [],
   "source": [
    "import pandas as pd\n",
    "import numpy as np\n",
    "import matplotlib.pyplot as plt\n",
    "import seaborn as sns\n",
    "%matplotlib inline\n",
    "from sklearn.ensemble import RandomForestRegressor\n",
    "from datetime import datetime\n",
    "\n"
   ]
  },
  {
   "cell_type": "code",
   "execution_count": 45,
   "id": "44aa5619",
   "metadata": {},
   "outputs": [
    {
     "data": {
      "text/html": [
       "<div>\n",
       "<style scoped>\n",
       "    .dataframe tbody tr th:only-of-type {\n",
       "        vertical-align: middle;\n",
       "    }\n",
       "\n",
       "    .dataframe tbody tr th {\n",
       "        vertical-align: top;\n",
       "    }\n",
       "\n",
       "    .dataframe thead th {\n",
       "        text-align: right;\n",
       "    }\n",
       "</style>\n",
       "<table border=\"1\" class=\"dataframe\">\n",
       "  <thead>\n",
       "    <tr style=\"text-align: right;\">\n",
       "      <th></th>\n",
       "      <th>Year&amp;month</th>\n",
       "      <th>Count</th>\n",
       "    </tr>\n",
       "  </thead>\n",
       "  <tbody>\n",
       "    <tr>\n",
       "      <th>0</th>\n",
       "      <td>2019-05</td>\n",
       "      <td>122</td>\n",
       "    </tr>\n",
       "    <tr>\n",
       "      <th>1</th>\n",
       "      <td>2019-06</td>\n",
       "      <td>155</td>\n",
       "    </tr>\n",
       "    <tr>\n",
       "      <th>2</th>\n",
       "      <td>2019-07</td>\n",
       "      <td>158</td>\n",
       "    </tr>\n",
       "    <tr>\n",
       "      <th>3</th>\n",
       "      <td>2019-08</td>\n",
       "      <td>138</td>\n",
       "    </tr>\n",
       "    <tr>\n",
       "      <th>4</th>\n",
       "      <td>2019-09</td>\n",
       "      <td>135</td>\n",
       "    </tr>\n",
       "  </tbody>\n",
       "</table>\n",
       "</div>"
      ],
      "text/plain": [
       "  Year&month  Count\n",
       "0    2019-05    122\n",
       "1    2019-06    155\n",
       "2    2019-07    158\n",
       "3    2019-08    138\n",
       "4    2019-09    135"
      ]
     },
     "execution_count": 45,
     "metadata": {},
     "output_type": "execute_result"
    }
   ],
   "source": [
    "df=pd.read_csv('Obesity_data.csv',encoding='latin-1')\n",
    "df.head()"
   ]
  },
  {
   "cell_type": "code",
   "execution_count": 46,
   "id": "bcc3df89",
   "metadata": {},
   "outputs": [],
   "source": [
    "df['Year&month'] = pd.to_datetime(df['Year&month'])"
   ]
  },
  {
   "cell_type": "code",
   "execution_count": 47,
   "id": "56990469",
   "metadata": {},
   "outputs": [
    {
     "data": {
      "text/plain": [
       "Year&month    datetime64[ns]\n",
       "Count                  int64\n",
       "dtype: object"
      ]
     },
     "execution_count": 47,
     "metadata": {},
     "output_type": "execute_result"
    }
   ],
   "source": [
    "df.dtypes"
   ]
  },
  {
   "cell_type": "code",
   "execution_count": 48,
   "id": "d5a63931",
   "metadata": {},
   "outputs": [
    {
     "name": "stdout",
     "output_type": "stream",
     "text": [
      "Enter month (1-12): 10\n",
      "Enter year: 2024\n",
      "Predicted patient volume for 10/2024: 77\n"
     ]
    }
   ],
   "source": [
    "\n",
    "\n",
    "# Extract month and year as separate features (optional, but might improve model)\n",
    "df['Month'] = df['Year&month'].dt.month\n",
    "df['Year'] = df['Year&month'].dt.year\n",
    "\n",
    "# Separate features and target variable\n",
    "X = df[['Month', 'Year']]  # Features\n",
    "y = df['Count']  # Target variable\n",
    "\n",
    "# Split data into training and testing sets (adjust test_size as needed)\n",
    "from sklearn.model_selection import train_test_split\n",
    "\n",
    "X_train, X_test, y_train, y_test = train_test_split(X, y, test_size=0.2, random_state=42)\n",
    "\n",
    "# Create and train the Random Forest model\n",
    "model = RandomForestRegressor(n_estimators=100, random_state=42)  # Adjust hyperparameters if needed\n",
    "model.fit(X_train, y_train)\n",
    "\n",
    "# Function to predict volume for a specific month and year based on user input\n",
    "def predict_volume(user_month, user_year):\n",
    "  # Create a DataFrame for prediction with user-specified month and year\n",
    "  prediction_data = pd.DataFrame({'Month': [user_month], 'Year': [user_year]})\n",
    "  # Predict patient volume for the specified month and year\n",
    "  predicted_volume = model.predict(prediction_data)[0]\n",
    "  return predicted_volume\n",
    "\n",
    "# Example usage (assuming user enters month and year)\n",
    "user_month = int(input(\"Enter month (1-12): \"))\n",
    "user_year = int(input(\"Enter year: \"))\n",
    "\n",
    "predicted_count = predict_volume(user_month, user_year)\n",
    "\n",
    "print(f\"Predicted patient volume for {user_month}/{user_year}: {predicted_count:.0f}\")"
   ]
  },
  {
   "cell_type": "code",
   "execution_count": 50,
   "id": "49f90702",
   "metadata": {},
   "outputs": [],
   "source": [
    "import pickle\n",
    "with open('Obesity_model.pkl', 'wb') as f:\n",
    "  pickle.dump(model, f)"
   ]
  },
  {
   "cell_type": "code",
   "execution_count": null,
   "id": "9a453bf3",
   "metadata": {},
   "outputs": [],
   "source": []
  }
 ],
 "metadata": {
  "kernelspec": {
   "display_name": "Python 3 (ipykernel)",
   "language": "python",
   "name": "python3"
  },
  "language_info": {
   "codemirror_mode": {
    "name": "ipython",
    "version": 3
   },
   "file_extension": ".py",
   "mimetype": "text/x-python",
   "name": "python",
   "nbconvert_exporter": "python",
   "pygments_lexer": "ipython3",
   "version": "3.9.7"
  }
 },
 "nbformat": 4,
 "nbformat_minor": 5
}
